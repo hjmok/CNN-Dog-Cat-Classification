{
  "nbformat": 4,
  "nbformat_minor": 0,
  "metadata": {
    "colab": {
      "name": "Loading CNN_Tensorflow",
      "provenance": [],
      "collapsed_sections": []
    },
    "kernelspec": {
      "name": "python3",
      "display_name": "Python 3"
    },
    "accelerator": "TPU"
  },
  "cells": [
    {
      "cell_type": "code",
      "metadata": {
        "id": "YsHbnOHm79em"
      },
      "source": [
        "#from keras.models import load_model\n",
        "import tensorflow as tf\n",
        "model = tf.keras.models.load_model('CatorDog_CNN.h5')"
      ],
      "execution_count": null,
      "outputs": []
    },
    {
      "cell_type": "code",
      "metadata": {
        "id": "eFHPjcp78RJa"
      },
      "source": [
        "import numpy as np\n",
        "from keras.preprocessing import image \n",
        "\n",
        "test_image = image.load_img('d1.jpg', target_size=(64, 64)) #making our image 64,64 to fit into our model\n",
        "\n",
        "test_image = image.img_to_array(test_image) #adding the 3 dimension later\n",
        "test_image = np.expand_dims(test_image, axis = 0) #adding the 4th dimension for what the predict method expects\n",
        "result = model.predict(test_image)\n",
        "\n",
        "if result[0][0]==1:\n",
        "  prediction = 'dog'\n",
        "else:\n",
        "  prediction = 'cat'\n",
        "\n",
        "print(training_set.class_indices)\n",
        "print(result)\n",
        "print(prediction)"
      ],
      "execution_count": null,
      "outputs": []
    },
    {
      "cell_type": "code",
      "metadata": {
        "id": "C0n0-PMOCk2R"
      },
      "source": [
        ""
      ],
      "execution_count": null,
      "outputs": []
    }
  ]
}